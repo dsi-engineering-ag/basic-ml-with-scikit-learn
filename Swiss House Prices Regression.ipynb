{
 "cells": [
  {
   "cell_type": "markdown",
   "id": "d53a08f4",
   "metadata": {},
   "source": [
    "# Basic Regression with scikit learn\n",
    "\n",
    "Beispiel Schweizer House Preise von Immoscout 24 vom 28.08.2021.\n",
    "\n",
    "https://www.immoscout24.ch/de/haus/kaufen/ort-bern?r=30"
   ]
  },
  {
   "cell_type": "markdown",
   "id": "aa94a77a",
   "metadata": {},
   "source": [
    "# Bibliotheken importieren"
   ]
  },
  {
   "cell_type": "code",
   "execution_count": 1,
   "id": "6689e007",
   "metadata": {},
   "outputs": [],
   "source": [
    "import pandas as pd\n",
    "import matplotlib.pyplot as plt\n",
    "import seaborn as sns\n",
    "import numpy as np"
   ]
  },
  {
   "cell_type": "markdown",
   "id": "93b429e0",
   "metadata": {},
   "source": [
    "## Daten einlesen"
   ]
  },
  {
   "cell_type": "code",
   "execution_count": 2,
   "id": "207878b6",
   "metadata": {},
   "outputs": [
    {
     "data": {
      "text/html": [
       "<div>\n",
       "<style scoped>\n",
       "    .dataframe tbody tr th:only-of-type {\n",
       "        vertical-align: middle;\n",
       "    }\n",
       "\n",
       "    .dataframe tbody tr th {\n",
       "        vertical-align: top;\n",
       "    }\n",
       "\n",
       "    .dataframe thead th {\n",
       "        text-align: right;\n",
       "    }\n",
       "</style>\n",
       "<table border=\"1\" class=\"dataframe\">\n",
       "  <thead>\n",
       "    <tr style=\"text-align: right;\">\n",
       "      <th></th>\n",
       "      <th>id</th>\n",
       "      <th>rooms</th>\n",
       "      <th>livingArea</th>\n",
       "      <th>price</th>\n",
       "      <th>postcode</th>\n",
       "      <th>content</th>\n",
       "    </tr>\n",
       "  </thead>\n",
       "  <tbody>\n",
       "    <tr>\n",
       "      <th>0</th>\n",
       "      <td>6617220</td>\n",
       "      <td>5.5</td>\n",
       "      <td>146.0</td>\n",
       "      <td>895000.0</td>\n",
       "      <td>3422</td>\n",
       "      <td>5,5 Zimmer, 146 m², CHF 895 000.—Rötimatte 20,...</td>\n",
       "    </tr>\n",
       "    <tr>\n",
       "      <th>1</th>\n",
       "      <td>6646402</td>\n",
       "      <td>4.5</td>\n",
       "      <td>173.0</td>\n",
       "      <td>880000.0</td>\n",
       "      <td>2534</td>\n",
       "      <td>4,5 Zimmer, 173 m², CHF 880 000.—Les Oeuches 6...</td>\n",
       "    </tr>\n",
       "    <tr>\n",
       "      <th>2</th>\n",
       "      <td>6640757</td>\n",
       "      <td>4.5</td>\n",
       "      <td>120.0</td>\n",
       "      <td>980000.0</td>\n",
       "      <td>3066</td>\n",
       "      <td>4,5 Zimmer, 120 m², CHF 980 000.—Neunenenstras...</td>\n",
       "    </tr>\n",
       "    <tr>\n",
       "      <th>3</th>\n",
       "      <td>6644387</td>\n",
       "      <td>4.5</td>\n",
       "      <td>140.0</td>\n",
       "      <td>890000.0</td>\n",
       "      <td>3126</td>\n",
       "      <td>4,5 Zimmer, 140 m², CHF 890 000.—Stutzweg 1, 3...</td>\n",
       "    </tr>\n",
       "    <tr>\n",
       "      <th>4</th>\n",
       "      <td>6641669</td>\n",
       "      <td>4.0</td>\n",
       "      <td>509.0</td>\n",
       "      <td>525000.0</td>\n",
       "      <td>4552</td>\n",
       "      <td>4 Zimmer, 509 m², CHF 525 000.—Obergadenweg 1,...</td>\n",
       "    </tr>\n",
       "    <tr>\n",
       "      <th>...</th>\n",
       "      <td>...</td>\n",
       "      <td>...</td>\n",
       "      <td>...</td>\n",
       "      <td>...</td>\n",
       "      <td>...</td>\n",
       "      <td>...</td>\n",
       "    </tr>\n",
       "    <tr>\n",
       "      <th>451</th>\n",
       "      <td>6633348</td>\n",
       "      <td>NaN</td>\n",
       "      <td>363.0</td>\n",
       "      <td>NaN</td>\n",
       "      <td>2543</td>\n",
       "      <td>363 m², Preis auf Anfrage2543 Lengnau BE, BE«W...</td>\n",
       "    </tr>\n",
       "    <tr>\n",
       "      <th>452</th>\n",
       "      <td>6515522</td>\n",
       "      <td>5.5</td>\n",
       "      <td>166.0</td>\n",
       "      <td>NaN</td>\n",
       "      <td>1782</td>\n",
       "      <td>5,5 Zimmer, 166 m², Preis auf Anfrage1782 La C...</td>\n",
       "    </tr>\n",
       "    <tr>\n",
       "      <th>453</th>\n",
       "      <td>6481327</td>\n",
       "      <td>21.0</td>\n",
       "      <td>616.0</td>\n",
       "      <td>NaN</td>\n",
       "      <td>1700</td>\n",
       "      <td>21 Zimmer, 616 m², Preis auf Anfrage1700 Fribo...</td>\n",
       "    </tr>\n",
       "    <tr>\n",
       "      <th>454</th>\n",
       "      <td>6399232</td>\n",
       "      <td>5.5</td>\n",
       "      <td>206.0</td>\n",
       "      <td>1295000.0</td>\n",
       "      <td>3126</td>\n",
       "      <td>5,5 Zimmer, 206 m², CHF 1 295 000.—Hauenenstra...</td>\n",
       "    </tr>\n",
       "    <tr>\n",
       "      <th>455</th>\n",
       "      <td>5290507</td>\n",
       "      <td>5.5</td>\n",
       "      <td>170.0</td>\n",
       "      <td>NaN</td>\n",
       "      <td>2542</td>\n",
       "      <td>5,5 Zimmer, 170 m², Preis auf Anfrage2542 Piet...</td>\n",
       "    </tr>\n",
       "  </tbody>\n",
       "</table>\n",
       "<p>456 rows × 6 columns</p>\n",
       "</div>"
      ],
      "text/plain": [
       "          id  rooms  livingArea      price  postcode  \\\n",
       "0    6617220    5.5       146.0   895000.0      3422   \n",
       "1    6646402    4.5       173.0   880000.0      2534   \n",
       "2    6640757    4.5       120.0   980000.0      3066   \n",
       "3    6644387    4.5       140.0   890000.0      3126   \n",
       "4    6641669    4.0       509.0   525000.0      4552   \n",
       "..       ...    ...         ...        ...       ...   \n",
       "451  6633348    NaN       363.0        NaN      2543   \n",
       "452  6515522    5.5       166.0        NaN      1782   \n",
       "453  6481327   21.0       616.0        NaN      1700   \n",
       "454  6399232    5.5       206.0  1295000.0      3126   \n",
       "455  5290507    5.5       170.0        NaN      2542   \n",
       "\n",
       "                                               content  \n",
       "0    5,5 Zimmer, 146 m², CHF 895 000.—Rötimatte 20,...  \n",
       "1    4,5 Zimmer, 173 m², CHF 880 000.—Les Oeuches 6...  \n",
       "2    4,5 Zimmer, 120 m², CHF 980 000.—Neunenenstras...  \n",
       "3    4,5 Zimmer, 140 m², CHF 890 000.—Stutzweg 1, 3...  \n",
       "4    4 Zimmer, 509 m², CHF 525 000.—Obergadenweg 1,...  \n",
       "..                                                 ...  \n",
       "451  363 m², Preis auf Anfrage2543 Lengnau BE, BE«W...  \n",
       "452  5,5 Zimmer, 166 m², Preis auf Anfrage1782 La C...  \n",
       "453  21 Zimmer, 616 m², Preis auf Anfrage1700 Fribo...  \n",
       "454  5,5 Zimmer, 206 m², CHF 1 295 000.—Hauenenstra...  \n",
       "455  5,5 Zimmer, 170 m², Preis auf Anfrage2542 Piet...  \n",
       "\n",
       "[456 rows x 6 columns]"
      ]
     },
     "execution_count": 2,
     "metadata": {},
     "output_type": "execute_result"
    }
   ],
   "source": [
    "df = pd.read_json('swiss-houses.json')\n",
    "df"
   ]
  },
  {
   "cell_type": "markdown",
   "id": "74655cb0",
   "metadata": {},
   "source": [
    "## Daten filtern\n",
    "\n",
    "Zeilen rausfiltern die kein Wert haben z.B. bei Preis auf Anfrage oder keine Angabe zu Anzahl Zimmer."
   ]
  },
  {
   "cell_type": "code",
   "execution_count": 3,
   "id": "7ca97708",
   "metadata": {},
   "outputs": [
    {
     "data": {
      "text/html": [
       "<div>\n",
       "<style scoped>\n",
       "    .dataframe tbody tr th:only-of-type {\n",
       "        vertical-align: middle;\n",
       "    }\n",
       "\n",
       "    .dataframe tbody tr th {\n",
       "        vertical-align: top;\n",
       "    }\n",
       "\n",
       "    .dataframe thead th {\n",
       "        text-align: right;\n",
       "    }\n",
       "</style>\n",
       "<table border=\"1\" class=\"dataframe\">\n",
       "  <thead>\n",
       "    <tr style=\"text-align: right;\">\n",
       "      <th></th>\n",
       "      <th>id</th>\n",
       "      <th>rooms</th>\n",
       "      <th>livingArea</th>\n",
       "      <th>price</th>\n",
       "      <th>postcode</th>\n",
       "      <th>content</th>\n",
       "    </tr>\n",
       "  </thead>\n",
       "  <tbody>\n",
       "    <tr>\n",
       "      <th>0</th>\n",
       "      <td>6617220</td>\n",
       "      <td>5.5</td>\n",
       "      <td>146.0</td>\n",
       "      <td>895000.0</td>\n",
       "      <td>3422</td>\n",
       "      <td>5,5 Zimmer, 146 m², CHF 895 000.—Rötimatte 20,...</td>\n",
       "    </tr>\n",
       "    <tr>\n",
       "      <th>1</th>\n",
       "      <td>6646402</td>\n",
       "      <td>4.5</td>\n",
       "      <td>173.0</td>\n",
       "      <td>880000.0</td>\n",
       "      <td>2534</td>\n",
       "      <td>4,5 Zimmer, 173 m², CHF 880 000.—Les Oeuches 6...</td>\n",
       "    </tr>\n",
       "    <tr>\n",
       "      <th>2</th>\n",
       "      <td>6640757</td>\n",
       "      <td>4.5</td>\n",
       "      <td>120.0</td>\n",
       "      <td>980000.0</td>\n",
       "      <td>3066</td>\n",
       "      <td>4,5 Zimmer, 120 m², CHF 980 000.—Neunenenstras...</td>\n",
       "    </tr>\n",
       "    <tr>\n",
       "      <th>3</th>\n",
       "      <td>6644387</td>\n",
       "      <td>4.5</td>\n",
       "      <td>140.0</td>\n",
       "      <td>890000.0</td>\n",
       "      <td>3126</td>\n",
       "      <td>4,5 Zimmer, 140 m², CHF 890 000.—Stutzweg 1, 3...</td>\n",
       "    </tr>\n",
       "    <tr>\n",
       "      <th>4</th>\n",
       "      <td>6641669</td>\n",
       "      <td>4.0</td>\n",
       "      <td>509.0</td>\n",
       "      <td>525000.0</td>\n",
       "      <td>4552</td>\n",
       "      <td>4 Zimmer, 509 m², CHF 525 000.—Obergadenweg 1,...</td>\n",
       "    </tr>\n",
       "    <tr>\n",
       "      <th>...</th>\n",
       "      <td>...</td>\n",
       "      <td>...</td>\n",
       "      <td>...</td>\n",
       "      <td>...</td>\n",
       "      <td>...</td>\n",
       "      <td>...</td>\n",
       "    </tr>\n",
       "    <tr>\n",
       "      <th>444</th>\n",
       "      <td>6406372</td>\n",
       "      <td>4.5</td>\n",
       "      <td>146.0</td>\n",
       "      <td>920000.0</td>\n",
       "      <td>3634</td>\n",
       "      <td>4,5 Zimmer, 146 m², CHF 920 000.—Blumensteinst...</td>\n",
       "    </tr>\n",
       "    <tr>\n",
       "      <th>447</th>\n",
       "      <td>6629230</td>\n",
       "      <td>1.5</td>\n",
       "      <td>18.0</td>\n",
       "      <td>39999.0</td>\n",
       "      <td>3232</td>\n",
       "      <td>1,5 Zimmer, 18 m², CHF 39 999.—Bahnhof, 3232 I...</td>\n",
       "    </tr>\n",
       "    <tr>\n",
       "      <th>449</th>\n",
       "      <td>6541845</td>\n",
       "      <td>5.5</td>\n",
       "      <td>180.0</td>\n",
       "      <td>895000.0</td>\n",
       "      <td>1714</td>\n",
       "      <td>5,5 Zimmer, 180 m², CHF 895 000.—1714 Heitenri...</td>\n",
       "    </tr>\n",
       "    <tr>\n",
       "      <th>450</th>\n",
       "      <td>6455049</td>\n",
       "      <td>5.5</td>\n",
       "      <td>180.0</td>\n",
       "      <td>2950000.0</td>\n",
       "      <td>3626</td>\n",
       "      <td>5,5 Zimmer, 180 m², CHF 2 950 000.—3626 Hüniba...</td>\n",
       "    </tr>\n",
       "    <tr>\n",
       "      <th>454</th>\n",
       "      <td>6399232</td>\n",
       "      <td>5.5</td>\n",
       "      <td>206.0</td>\n",
       "      <td>1295000.0</td>\n",
       "      <td>3126</td>\n",
       "      <td>5,5 Zimmer, 206 m², CHF 1 295 000.—Hauenenstra...</td>\n",
       "    </tr>\n",
       "  </tbody>\n",
       "</table>\n",
       "<p>383 rows × 6 columns</p>\n",
       "</div>"
      ],
      "text/plain": [
       "          id  rooms  livingArea      price  postcode  \\\n",
       "0    6617220    5.5       146.0   895000.0      3422   \n",
       "1    6646402    4.5       173.0   880000.0      2534   \n",
       "2    6640757    4.5       120.0   980000.0      3066   \n",
       "3    6644387    4.5       140.0   890000.0      3126   \n",
       "4    6641669    4.0       509.0   525000.0      4552   \n",
       "..       ...    ...         ...        ...       ...   \n",
       "444  6406372    4.5       146.0   920000.0      3634   \n",
       "447  6629230    1.5        18.0    39999.0      3232   \n",
       "449  6541845    5.5       180.0   895000.0      1714   \n",
       "450  6455049    5.5       180.0  2950000.0      3626   \n",
       "454  6399232    5.5       206.0  1295000.0      3126   \n",
       "\n",
       "                                               content  \n",
       "0    5,5 Zimmer, 146 m², CHF 895 000.—Rötimatte 20,...  \n",
       "1    4,5 Zimmer, 173 m², CHF 880 000.—Les Oeuches 6...  \n",
       "2    4,5 Zimmer, 120 m², CHF 980 000.—Neunenenstras...  \n",
       "3    4,5 Zimmer, 140 m², CHF 890 000.—Stutzweg 1, 3...  \n",
       "4    4 Zimmer, 509 m², CHF 525 000.—Obergadenweg 1,...  \n",
       "..                                                 ...  \n",
       "444  4,5 Zimmer, 146 m², CHF 920 000.—Blumensteinst...  \n",
       "447  1,5 Zimmer, 18 m², CHF 39 999.—Bahnhof, 3232 I...  \n",
       "449  5,5 Zimmer, 180 m², CHF 895 000.—1714 Heitenri...  \n",
       "450  5,5 Zimmer, 180 m², CHF 2 950 000.—3626 Hüniba...  \n",
       "454  5,5 Zimmer, 206 m², CHF 1 295 000.—Hauenenstra...  \n",
       "\n",
       "[383 rows x 6 columns]"
      ]
     },
     "execution_count": 3,
     "metadata": {},
     "output_type": "execute_result"
    }
   ],
   "source": [
    "df = df.dropna()\n",
    "df"
   ]
  },
  {
   "cell_type": "markdown",
   "id": "31fb8ea4",
   "metadata": {},
   "source": [
    "### Daten formatieren / Feature Engineering\n",
    "\n",
    "Preis und Wohnfläche in eine Ganzzahl umwandlen"
   ]
  },
  {
   "cell_type": "code",
   "execution_count": 4,
   "id": "534deb81",
   "metadata": {},
   "outputs": [
    {
     "data": {
      "text/html": [
       "<div>\n",
       "<style scoped>\n",
       "    .dataframe tbody tr th:only-of-type {\n",
       "        vertical-align: middle;\n",
       "    }\n",
       "\n",
       "    .dataframe tbody tr th {\n",
       "        vertical-align: top;\n",
       "    }\n",
       "\n",
       "    .dataframe thead th {\n",
       "        text-align: right;\n",
       "    }\n",
       "</style>\n",
       "<table border=\"1\" class=\"dataframe\">\n",
       "  <thead>\n",
       "    <tr style=\"text-align: right;\">\n",
       "      <th></th>\n",
       "      <th>id</th>\n",
       "      <th>rooms</th>\n",
       "      <th>livingArea</th>\n",
       "      <th>price</th>\n",
       "      <th>postcode</th>\n",
       "      <th>content</th>\n",
       "    </tr>\n",
       "  </thead>\n",
       "  <tbody>\n",
       "    <tr>\n",
       "      <th>0</th>\n",
       "      <td>6617220</td>\n",
       "      <td>5.5</td>\n",
       "      <td>146</td>\n",
       "      <td>895</td>\n",
       "      <td>3422</td>\n",
       "      <td>5,5 Zimmer, 146 m², CHF 895 000.—Rötimatte 20,...</td>\n",
       "    </tr>\n",
       "    <tr>\n",
       "      <th>1</th>\n",
       "      <td>6646402</td>\n",
       "      <td>4.5</td>\n",
       "      <td>173</td>\n",
       "      <td>880</td>\n",
       "      <td>2534</td>\n",
       "      <td>4,5 Zimmer, 173 m², CHF 880 000.—Les Oeuches 6...</td>\n",
       "    </tr>\n",
       "    <tr>\n",
       "      <th>2</th>\n",
       "      <td>6640757</td>\n",
       "      <td>4.5</td>\n",
       "      <td>120</td>\n",
       "      <td>980</td>\n",
       "      <td>3066</td>\n",
       "      <td>4,5 Zimmer, 120 m², CHF 980 000.—Neunenenstras...</td>\n",
       "    </tr>\n",
       "    <tr>\n",
       "      <th>3</th>\n",
       "      <td>6644387</td>\n",
       "      <td>4.5</td>\n",
       "      <td>140</td>\n",
       "      <td>890</td>\n",
       "      <td>3126</td>\n",
       "      <td>4,5 Zimmer, 140 m², CHF 890 000.—Stutzweg 1, 3...</td>\n",
       "    </tr>\n",
       "    <tr>\n",
       "      <th>4</th>\n",
       "      <td>6641669</td>\n",
       "      <td>4.0</td>\n",
       "      <td>509</td>\n",
       "      <td>525</td>\n",
       "      <td>4552</td>\n",
       "      <td>4 Zimmer, 509 m², CHF 525 000.—Obergadenweg 1,...</td>\n",
       "    </tr>\n",
       "    <tr>\n",
       "      <th>...</th>\n",
       "      <td>...</td>\n",
       "      <td>...</td>\n",
       "      <td>...</td>\n",
       "      <td>...</td>\n",
       "      <td>...</td>\n",
       "      <td>...</td>\n",
       "    </tr>\n",
       "    <tr>\n",
       "      <th>444</th>\n",
       "      <td>6406372</td>\n",
       "      <td>4.5</td>\n",
       "      <td>146</td>\n",
       "      <td>920</td>\n",
       "      <td>3634</td>\n",
       "      <td>4,5 Zimmer, 146 m², CHF 920 000.—Blumensteinst...</td>\n",
       "    </tr>\n",
       "    <tr>\n",
       "      <th>447</th>\n",
       "      <td>6629230</td>\n",
       "      <td>1.5</td>\n",
       "      <td>18</td>\n",
       "      <td>39</td>\n",
       "      <td>3232</td>\n",
       "      <td>1,5 Zimmer, 18 m², CHF 39 999.—Bahnhof, 3232 I...</td>\n",
       "    </tr>\n",
       "    <tr>\n",
       "      <th>449</th>\n",
       "      <td>6541845</td>\n",
       "      <td>5.5</td>\n",
       "      <td>180</td>\n",
       "      <td>895</td>\n",
       "      <td>1714</td>\n",
       "      <td>5,5 Zimmer, 180 m², CHF 895 000.—1714 Heitenri...</td>\n",
       "    </tr>\n",
       "    <tr>\n",
       "      <th>450</th>\n",
       "      <td>6455049</td>\n",
       "      <td>5.5</td>\n",
       "      <td>180</td>\n",
       "      <td>2950</td>\n",
       "      <td>3626</td>\n",
       "      <td>5,5 Zimmer, 180 m², CHF 2 950 000.—3626 Hüniba...</td>\n",
       "    </tr>\n",
       "    <tr>\n",
       "      <th>454</th>\n",
       "      <td>6399232</td>\n",
       "      <td>5.5</td>\n",
       "      <td>206</td>\n",
       "      <td>1295</td>\n",
       "      <td>3126</td>\n",
       "      <td>5,5 Zimmer, 206 m², CHF 1 295 000.—Hauenenstra...</td>\n",
       "    </tr>\n",
       "  </tbody>\n",
       "</table>\n",
       "<p>383 rows × 6 columns</p>\n",
       "</div>"
      ],
      "text/plain": [
       "          id  rooms  livingArea  price  postcode  \\\n",
       "0    6617220    5.5         146    895      3422   \n",
       "1    6646402    4.5         173    880      2534   \n",
       "2    6640757    4.5         120    980      3066   \n",
       "3    6644387    4.5         140    890      3126   \n",
       "4    6641669    4.0         509    525      4552   \n",
       "..       ...    ...         ...    ...       ...   \n",
       "444  6406372    4.5         146    920      3634   \n",
       "447  6629230    1.5          18     39      3232   \n",
       "449  6541845    5.5         180    895      1714   \n",
       "450  6455049    5.5         180   2950      3626   \n",
       "454  6399232    5.5         206   1295      3126   \n",
       "\n",
       "                                               content  \n",
       "0    5,5 Zimmer, 146 m², CHF 895 000.—Rötimatte 20,...  \n",
       "1    4,5 Zimmer, 173 m², CHF 880 000.—Les Oeuches 6...  \n",
       "2    4,5 Zimmer, 120 m², CHF 980 000.—Neunenenstras...  \n",
       "3    4,5 Zimmer, 140 m², CHF 890 000.—Stutzweg 1, 3...  \n",
       "4    4 Zimmer, 509 m², CHF 525 000.—Obergadenweg 1,...  \n",
       "..                                                 ...  \n",
       "444  4,5 Zimmer, 146 m², CHF 920 000.—Blumensteinst...  \n",
       "447  1,5 Zimmer, 18 m², CHF 39 999.—Bahnhof, 3232 I...  \n",
       "449  5,5 Zimmer, 180 m², CHF 895 000.—1714 Heitenri...  \n",
       "450  5,5 Zimmer, 180 m², CHF 2 950 000.—3626 Hüniba...  \n",
       "454  5,5 Zimmer, 206 m², CHF 1 295 000.—Hauenenstra...  \n",
       "\n",
       "[383 rows x 6 columns]"
      ]
     },
     "execution_count": 4,
     "metadata": {},
     "output_type": "execute_result"
    }
   ],
   "source": [
    "houses = df.copy()\n",
    "houses['price'] = houses['price'].copy() / 1000\n",
    "houses = houses.astype({'price': int, 'livingArea': int})\n",
    "houses"
   ]
  },
  {
   "cell_type": "markdown",
   "id": "61c7acf7",
   "metadata": {},
   "source": [
    "## Daten Analyse"
   ]
  },
  {
   "cell_type": "markdown",
   "id": "97402278",
   "metadata": {},
   "source": [
    "Statistische Zusammenfassung (AVG / Min / Max) Preis."
   ]
  },
  {
   "cell_type": "code",
   "execution_count": 5,
   "id": "fe5694a1",
   "metadata": {},
   "outputs": [
    {
     "data": {
      "text/plain": [
       "count     383.000000\n",
       "mean     1180.328982\n",
       "std       589.992001\n",
       "min        39.000000\n",
       "25%       799.000000\n",
       "50%       990.000000\n",
       "75%      1355.000000\n",
       "max      4000.000000\n",
       "Name: price, dtype: float64"
      ]
     },
     "execution_count": 5,
     "metadata": {},
     "output_type": "execute_result"
    }
   ],
   "source": [
    "houses['price'].describe()"
   ]
  },
  {
   "cell_type": "markdown",
   "id": "a7dc850d",
   "metadata": {},
   "source": [
    "Statistische Zusammenfassung (AVG / Min / Max) - Wohnfläche"
   ]
  },
  {
   "cell_type": "code",
   "execution_count": 6,
   "id": "d5a76916",
   "metadata": {},
   "outputs": [
    {
     "data": {
      "text/plain": [
       "count     383.000000\n",
       "mean      227.234987\n",
       "std       246.064803\n",
       "min        18.000000\n",
       "25%       140.000000\n",
       "50%       168.000000\n",
       "75%       221.500000\n",
       "max      3248.000000\n",
       "Name: livingArea, dtype: float64"
      ]
     },
     "execution_count": 6,
     "metadata": {},
     "output_type": "execute_result"
    }
   ],
   "source": [
    "houses['livingArea'].describe()"
   ]
  },
  {
   "cell_type": "markdown",
   "id": "069cca35",
   "metadata": {},
   "source": [
    "Alle Häuser mit mehr als 2000 m^2 Wohnfläche"
   ]
  },
  {
   "cell_type": "code",
   "execution_count": 7,
   "id": "9a2193ea",
   "metadata": {},
   "outputs": [
    {
     "data": {
      "text/html": [
       "<div>\n",
       "<style scoped>\n",
       "    .dataframe tbody tr th:only-of-type {\n",
       "        vertical-align: middle;\n",
       "    }\n",
       "\n",
       "    .dataframe tbody tr th {\n",
       "        vertical-align: top;\n",
       "    }\n",
       "\n",
       "    .dataframe thead th {\n",
       "        text-align: right;\n",
       "    }\n",
       "</style>\n",
       "<table border=\"1\" class=\"dataframe\">\n",
       "  <thead>\n",
       "    <tr style=\"text-align: right;\">\n",
       "      <th></th>\n",
       "      <th>id</th>\n",
       "      <th>rooms</th>\n",
       "      <th>livingArea</th>\n",
       "      <th>price</th>\n",
       "      <th>postcode</th>\n",
       "      <th>content</th>\n",
       "    </tr>\n",
       "  </thead>\n",
       "  <tbody>\n",
       "    <tr>\n",
       "      <th>298</th>\n",
       "      <td>6392704</td>\n",
       "      <td>13.0</td>\n",
       "      <td>3248</td>\n",
       "      <td>1850</td>\n",
       "      <td>3248</td>\n",
       "      <td>13 Zimmer, 3248 m², CHF 1 850 000.—Bernstrasse...</td>\n",
       "    </tr>\n",
       "    <tr>\n",
       "      <th>301</th>\n",
       "      <td>6003067</td>\n",
       "      <td>8.0</td>\n",
       "      <td>2190</td>\n",
       "      <td>830</td>\n",
       "      <td>2190</td>\n",
       "      <td>8 Zimmer, 2190 m², CHF 830 000.—Oelegasse 39 u...</td>\n",
       "    </tr>\n",
       "  </tbody>\n",
       "</table>\n",
       "</div>"
      ],
      "text/plain": [
       "          id  rooms  livingArea  price  postcode  \\\n",
       "298  6392704   13.0        3248   1850      3248   \n",
       "301  6003067    8.0        2190    830      2190   \n",
       "\n",
       "                                               content  \n",
       "298  13 Zimmer, 3248 m², CHF 1 850 000.—Bernstrasse...  \n",
       "301  8 Zimmer, 2190 m², CHF 830 000.—Oelegasse 39 u...  "
      ]
     },
     "execution_count": 7,
     "metadata": {},
     "output_type": "execute_result"
    }
   ],
   "source": [
    "houses[houses['livingArea'] > 2000]"
   ]
  },
  {
   "cell_type": "markdown",
   "id": "64b8901f",
   "metadata": {},
   "source": [
    "### Häuser mit mehr als 500 m^2 Wohnfläche rausfiltern"
   ]
  },
  {
   "cell_type": "code",
   "execution_count": 8,
   "id": "9822c163",
   "metadata": {},
   "outputs": [
    {
     "data": {
      "text/html": [
       "<div>\n",
       "<style scoped>\n",
       "    .dataframe tbody tr th:only-of-type {\n",
       "        vertical-align: middle;\n",
       "    }\n",
       "\n",
       "    .dataframe tbody tr th {\n",
       "        vertical-align: top;\n",
       "    }\n",
       "\n",
       "    .dataframe thead th {\n",
       "        text-align: right;\n",
       "    }\n",
       "</style>\n",
       "<table border=\"1\" class=\"dataframe\">\n",
       "  <thead>\n",
       "    <tr style=\"text-align: right;\">\n",
       "      <th></th>\n",
       "      <th>id</th>\n",
       "      <th>rooms</th>\n",
       "      <th>livingArea</th>\n",
       "      <th>price</th>\n",
       "      <th>postcode</th>\n",
       "      <th>content</th>\n",
       "    </tr>\n",
       "  </thead>\n",
       "  <tbody>\n",
       "    <tr>\n",
       "      <th>0</th>\n",
       "      <td>6617220</td>\n",
       "      <td>5.5</td>\n",
       "      <td>146</td>\n",
       "      <td>895</td>\n",
       "      <td>3422</td>\n",
       "      <td>5,5 Zimmer, 146 m², CHF 895 000.—Rötimatte 20,...</td>\n",
       "    </tr>\n",
       "    <tr>\n",
       "      <th>1</th>\n",
       "      <td>6646402</td>\n",
       "      <td>4.5</td>\n",
       "      <td>173</td>\n",
       "      <td>880</td>\n",
       "      <td>2534</td>\n",
       "      <td>4,5 Zimmer, 173 m², CHF 880 000.—Les Oeuches 6...</td>\n",
       "    </tr>\n",
       "    <tr>\n",
       "      <th>2</th>\n",
       "      <td>6640757</td>\n",
       "      <td>4.5</td>\n",
       "      <td>120</td>\n",
       "      <td>980</td>\n",
       "      <td>3066</td>\n",
       "      <td>4,5 Zimmer, 120 m², CHF 980 000.—Neunenenstras...</td>\n",
       "    </tr>\n",
       "    <tr>\n",
       "      <th>3</th>\n",
       "      <td>6644387</td>\n",
       "      <td>4.5</td>\n",
       "      <td>140</td>\n",
       "      <td>890</td>\n",
       "      <td>3126</td>\n",
       "      <td>4,5 Zimmer, 140 m², CHF 890 000.—Stutzweg 1, 3...</td>\n",
       "    </tr>\n",
       "    <tr>\n",
       "      <th>5</th>\n",
       "      <td>6640443</td>\n",
       "      <td>9.0</td>\n",
       "      <td>190</td>\n",
       "      <td>830</td>\n",
       "      <td>3425</td>\n",
       "      <td>9 Zimmer, 190 m², CHF 830 000.—Solothurnstrass...</td>\n",
       "    </tr>\n",
       "    <tr>\n",
       "      <th>...</th>\n",
       "      <td>...</td>\n",
       "      <td>...</td>\n",
       "      <td>...</td>\n",
       "      <td>...</td>\n",
       "      <td>...</td>\n",
       "      <td>...</td>\n",
       "    </tr>\n",
       "    <tr>\n",
       "      <th>444</th>\n",
       "      <td>6406372</td>\n",
       "      <td>4.5</td>\n",
       "      <td>146</td>\n",
       "      <td>920</td>\n",
       "      <td>3634</td>\n",
       "      <td>4,5 Zimmer, 146 m², CHF 920 000.—Blumensteinst...</td>\n",
       "    </tr>\n",
       "    <tr>\n",
       "      <th>447</th>\n",
       "      <td>6629230</td>\n",
       "      <td>1.5</td>\n",
       "      <td>18</td>\n",
       "      <td>39</td>\n",
       "      <td>3232</td>\n",
       "      <td>1,5 Zimmer, 18 m², CHF 39 999.—Bahnhof, 3232 I...</td>\n",
       "    </tr>\n",
       "    <tr>\n",
       "      <th>449</th>\n",
       "      <td>6541845</td>\n",
       "      <td>5.5</td>\n",
       "      <td>180</td>\n",
       "      <td>895</td>\n",
       "      <td>1714</td>\n",
       "      <td>5,5 Zimmer, 180 m², CHF 895 000.—1714 Heitenri...</td>\n",
       "    </tr>\n",
       "    <tr>\n",
       "      <th>450</th>\n",
       "      <td>6455049</td>\n",
       "      <td>5.5</td>\n",
       "      <td>180</td>\n",
       "      <td>2950</td>\n",
       "      <td>3626</td>\n",
       "      <td>5,5 Zimmer, 180 m², CHF 2 950 000.—3626 Hüniba...</td>\n",
       "    </tr>\n",
       "    <tr>\n",
       "      <th>454</th>\n",
       "      <td>6399232</td>\n",
       "      <td>5.5</td>\n",
       "      <td>206</td>\n",
       "      <td>1295</td>\n",
       "      <td>3126</td>\n",
       "      <td>5,5 Zimmer, 206 m², CHF 1 295 000.—Hauenenstra...</td>\n",
       "    </tr>\n",
       "  </tbody>\n",
       "</table>\n",
       "<p>361 rows × 6 columns</p>\n",
       "</div>"
      ],
      "text/plain": [
       "          id  rooms  livingArea  price  postcode  \\\n",
       "0    6617220    5.5         146    895      3422   \n",
       "1    6646402    4.5         173    880      2534   \n",
       "2    6640757    4.5         120    980      3066   \n",
       "3    6644387    4.5         140    890      3126   \n",
       "5    6640443    9.0         190    830      3425   \n",
       "..       ...    ...         ...    ...       ...   \n",
       "444  6406372    4.5         146    920      3634   \n",
       "447  6629230    1.5          18     39      3232   \n",
       "449  6541845    5.5         180    895      1714   \n",
       "450  6455049    5.5         180   2950      3626   \n",
       "454  6399232    5.5         206   1295      3126   \n",
       "\n",
       "                                               content  \n",
       "0    5,5 Zimmer, 146 m², CHF 895 000.—Rötimatte 20,...  \n",
       "1    4,5 Zimmer, 173 m², CHF 880 000.—Les Oeuches 6...  \n",
       "2    4,5 Zimmer, 120 m², CHF 980 000.—Neunenenstras...  \n",
       "3    4,5 Zimmer, 140 m², CHF 890 000.—Stutzweg 1, 3...  \n",
       "5    9 Zimmer, 190 m², CHF 830 000.—Solothurnstrass...  \n",
       "..                                                 ...  \n",
       "444  4,5 Zimmer, 146 m², CHF 920 000.—Blumensteinst...  \n",
       "447  1,5 Zimmer, 18 m², CHF 39 999.—Bahnhof, 3232 I...  \n",
       "449  5,5 Zimmer, 180 m², CHF 895 000.—1714 Heitenri...  \n",
       "450  5,5 Zimmer, 180 m², CHF 2 950 000.—3626 Hüniba...  \n",
       "454  5,5 Zimmer, 206 m², CHF 1 295 000.—Hauenenstra...  \n",
       "\n",
       "[361 rows x 6 columns]"
      ]
     },
     "execution_count": 8,
     "metadata": {},
     "output_type": "execute_result"
    }
   ],
   "source": [
    "houses = houses[houses[\"livingArea\"] < 500]\n",
    "houses"
   ]
  },
  {
   "cell_type": "markdown",
   "id": "fe5bca25",
   "metadata": {},
   "source": [
    "### Preisanalyse"
   ]
  },
  {
   "cell_type": "code",
   "execution_count": 9,
   "id": "719d9ca5",
   "metadata": {},
   "outputs": [
    {
     "data": {
      "image/png": "[encoded data removed]",
      "text/plain": [
       "<Figure size 360x360 with 1 Axes>"
      ]
     },
     "metadata": {
      "needs_background": "light"
     },
     "output_type": "display_data"
    }
   ],
   "source": [
    "# Histogram\n",
    "sns.displot(houses['price']);"
   ]
  },
  {
   "cell_type": "code",
   "execution_count": null,
   "id": "5b5f3d91",
   "metadata": {},
   "outputs": [],
   "source": [
    "# Scatter Plot livingArea/price\n",
    "data = pd.concat([houses['price'], houses['livingArea']], axis=1)\n",
    "data.plot.scatter(x='livingArea', y='price', ylim=(0,4000), xlim=(0,500));"
   ]
  },
  {
   "cell_type": "code",
   "execution_count": null,
   "id": "db24d53a",
   "metadata": {},
   "outputs": [],
   "source": [
    "#scatter plot rooms/price\n",
    "data = pd.concat([houses['price'], houses['rooms']], axis=1)\n",
    "data.plot.scatter(x='rooms', y='price');"
   ]
  },
  {
   "cell_type": "markdown",
   "id": "a933f7af",
   "metadata": {},
   "source": [
    "# Modell tranieren\n",
    "\n",
    "## Daten aufteilen in Trainings- und Testmenge\n",
    "\n",
    "Das Aufteilen der Daten geschieht mit einer Hilfsfunktion von scikit learn. Die Aufteilung geschieht zufällig, um aber das Resultat reproduzierbar zu machen wird (mit `random_state=1`) steht dieselbe Zufallsauswahl gewählt."
   ]
  },
  {
   "cell_type": "code",
   "execution_count": null,
   "id": "b5f10b7b",
   "metadata": {},
   "outputs": [],
   "source": [
    "from sklearn.model_selection import train_test_split\n",
    "\n",
    "X_train, X_test, y_train, y_test = train_test_split(houses['livingArea'].to_numpy().reshape(-1, 1), houses['price'], test_size=0.5, random_state=1)"
   ]
  },
  {
   "cell_type": "markdown",
   "id": "235e7631",
   "metadata": {
    "tags": []
   },
   "source": [
    "### Modell tranieren"
   ]
  },
  {
   "cell_type": "code",
   "execution_count": null,
   "id": "9e3e3c41",
   "metadata": {},
   "outputs": [],
   "source": [
    "from sklearn.linear_model import LinearRegression\n",
    "\n",
    "linreg = LinearRegression().fit(X_train, y_train)"
   ]
  },
  {
   "cell_type": "markdown",
   "id": "03611db0",
   "metadata": {},
   "source": [
    "### Modell evaluieren"
   ]
  },
  {
   "cell_type": "code",
   "execution_count": 14,
   "id": "2380ff40",
   "metadata": {},
   "outputs": [
    {
     "name": "stdout",
     "output_type": "stream",
     "text": [
      "Mean absolute error (training) {:.3f} 308.51332162351\n",
      "Mean absolute error (test) {:.3f} 295.16476744409584\n",
      "R-squared score (training): 0.244\n",
      "R-squared score (test): 0.393\n"
     ]
    }
   ],
   "source": [
    "# Score\n",
    "# Score\n",
    "from sklearn.metrics import mean_absolute_error\n",
    "\n",
    "print('Mean absolute error (training) {:.3f}', mean_absolute_error(y_train, linreg.predict(X_train)))\n",
    "print('Mean absolute error (test) {:.3f}', mean_absolute_error(y_test, linreg.predict(X_test)))\n",
    "\n",
    "print('R-squared score (training): {:.3f}'\n",
    "     .format(linreg.score(X_train, y_train)))\n",
    "print('R-squared score (test): {:.3f}'\n",
    "     .format(linreg.score(X_test, y_test)))"
   ]
  },
  {
   "cell_type": "markdown",
   "id": "860e28be",
   "metadata": {},
   "source": [
    "#### R-squared score\n",
    "\n",
    "Wert zwischen 0 und 1.\n",
    "\n",
    "<img src=\"./image-rsquared.png\" alt=\"rsqaured\" />"
   ]
  },
  {
   "cell_type": "markdown",
   "id": "eb8ee27f",
   "metadata": {},
   "source": [
    "### Modell Graphisch evaluieren"
   ]
  },
  {
   "cell_type": "code",
   "execution_count": 15,
   "id": "c7e5c7d0",
   "metadata": {},
   "outputs": [
    {
     "data": {
      "image/png": "[encoded data removed]",
      "text/plain": [
       "<Figure size 576x576 with 1 Axes>"
      ]
     },
     "metadata": {
      "needs_background": "light"
     },
     "output_type": "display_data"
    }
   ],
   "source": [
    "plt.figure(figsize=(8,8))\n",
    "plt.scatter(houses['livingArea'].to_numpy(), houses['price'].to_numpy(), marker= 'o', s=50, alpha=0.8)\n",
    "plt.plot(houses['livingArea'].to_numpy(), linreg.coef_ * houses['livingArea'].to_numpy() + linreg.intercept_, 'r-')\n",
    "plt.title('Least-squares linear regression')\n",
    "plt.xlabel('livingArea')\n",
    "plt.ylabel('Price')\n",
    "plt.xlim([0,500])\n",
    "plt.show()"
   ]
  },
  {
   "cell_type": "markdown",
   "id": "cc3570fd",
   "metadata": {},
   "source": [
    "### Modell mit 2 Features (Wohnfläche und Anzahl Zimmer) tranieren"
   ]
  },
  {
   "cell_type": "code",
   "execution_count": 16,
   "id": "f8ced09a",
   "metadata": {},
   "outputs": [],
   "source": [
    "X_train, X_test, y_train, y_test = train_test_split(houses[['livingArea', 'rooms']], houses['price'], test_size=0.5, random_state=1)"
   ]
  },
  {
   "cell_type": "code",
   "execution_count": 17,
   "id": "19ee9855",
   "metadata": {},
   "outputs": [
    {
     "data": {
      "text/html": [
       "<div>\n",
       "<style scoped>\n",
       "    .dataframe tbody tr th:only-of-type {\n",
       "        vertical-align: middle;\n",
       "    }\n",
       "\n",
       "    .dataframe tbody tr th {\n",
       "        vertical-align: top;\n",
       "    }\n",
       "\n",
       "    .dataframe thead th {\n",
       "        text-align: right;\n",
       "    }\n",
       "</style>\n",
       "<table border=\"1\" class=\"dataframe\">\n",
       "  <thead>\n",
       "    <tr style=\"text-align: right;\">\n",
       "      <th></th>\n",
       "      <th>livingArea</th>\n",
       "      <th>rooms</th>\n",
       "    </tr>\n",
       "  </thead>\n",
       "  <tbody>\n",
       "    <tr>\n",
       "      <th>84</th>\n",
       "      <td>185</td>\n",
       "      <td>7.5</td>\n",
       "    </tr>\n",
       "    <tr>\n",
       "      <th>243</th>\n",
       "      <td>130</td>\n",
       "      <td>4.5</td>\n",
       "    </tr>\n",
       "    <tr>\n",
       "      <th>334</th>\n",
       "      <td>196</td>\n",
       "      <td>5.5</td>\n",
       "    </tr>\n",
       "    <tr>\n",
       "      <th>429</th>\n",
       "      <td>300</td>\n",
       "      <td>9.5</td>\n",
       "    </tr>\n",
       "    <tr>\n",
       "      <th>438</th>\n",
       "      <td>165</td>\n",
       "      <td>5.5</td>\n",
       "    </tr>\n",
       "    <tr>\n",
       "      <th>...</th>\n",
       "      <td>...</td>\n",
       "      <td>...</td>\n",
       "    </tr>\n",
       "    <tr>\n",
       "      <th>238</th>\n",
       "      <td>157</td>\n",
       "      <td>6.5</td>\n",
       "    </tr>\n",
       "    <tr>\n",
       "      <th>307</th>\n",
       "      <td>140</td>\n",
       "      <td>5.5</td>\n",
       "    </tr>\n",
       "    <tr>\n",
       "      <th>90</th>\n",
       "      <td>250</td>\n",
       "      <td>7.5</td>\n",
       "    </tr>\n",
       "    <tr>\n",
       "      <th>280</th>\n",
       "      <td>130</td>\n",
       "      <td>5.5</td>\n",
       "    </tr>\n",
       "    <tr>\n",
       "      <th>43</th>\n",
       "      <td>157</td>\n",
       "      <td>6.5</td>\n",
       "    </tr>\n",
       "  </tbody>\n",
       "</table>\n",
       "<p>180 rows × 2 columns</p>\n",
       "</div>"
      ],
      "text/plain": [
       "     livingArea  rooms\n",
       "84          185    7.5\n",
       "243         130    4.5\n",
       "334         196    5.5\n",
       "429         300    9.5\n",
       "438         165    5.5\n",
       "..          ...    ...\n",
       "238         157    6.5\n",
       "307         140    5.5\n",
       "90          250    7.5\n",
       "280         130    5.5\n",
       "43          157    6.5\n",
       "\n",
       "[180 rows x 2 columns]"
      ]
     },
     "execution_count": 17,
     "metadata": {},
     "output_type": "execute_result"
    }
   ],
   "source": [
    "X_train"
   ]
  },
  {
   "cell_type": "code",
   "execution_count": 18,
   "id": "2c2e6b61",
   "metadata": {},
   "outputs": [],
   "source": [
    "linreg = LinearRegression().fit(X_train, y_train)"
   ]
  },
  {
   "cell_type": "code",
   "execution_count": 19,
   "id": "8b5c116e",
   "metadata": {},
   "outputs": [
    {
     "name": "stdout",
     "output_type": "stream",
     "text": [
      "R-squared score (training): 0.266\n",
      "R-squared score (test): 0.412\n"
     ]
    }
   ],
   "source": [
    "from sklearn.metrics import mean_squared_error\n",
    "\n",
    "# Score\n",
    "print('R-squared score (training): {:.3f}'\n",
    "     .format(linreg.score(X_train, y_train)))\n",
    "print('R-squared score (test): {:.3f}'\n",
    "     .format(linreg.score(X_test, y_test)))"
   ]
  }
 ],
 "metadata": {
  "interpreter": {
   "hash": "916dbcbb3f70747c44a77c7bcd40155683ae19c65e1c03b4aa3499c5328201f1"
  },
  "kernelspec": {
   "display_name": "Python 3 (ipykernel)",
   "language": "python",
   "name": "python3"
  },
  "language_info": {
   "codemirror_mode": {
    "name": "ipython",
    "version": 3
   },
   "file_extension": ".py",
   "mimetype": "text/x-python",
   "name": "python",
   "nbconvert_exporter": "python",
   "pygments_lexer": "ipython3",
   "version": "3.8.10"
  }
 },
 "nbformat": 4,
 "nbformat_minor": 5
}
