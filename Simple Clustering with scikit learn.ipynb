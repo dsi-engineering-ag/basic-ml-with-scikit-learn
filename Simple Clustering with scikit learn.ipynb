{
 "cells": [
  {
   "cell_type": "markdown",
   "metadata": {},
   "source": [
    "\n",
    "<img src=\"https://dsiag.ch/images/dsi_rgb.png\" alt=\"dsi logo\" width=\"100\" style=\"position: absolute; right: 0px;\"/>\n",
    "\n",
    "# Basic Cluster Analyis with scikit learn\n",
    "\n",
    "Beispiel zur einfachen Clustering der Daten aus dem Iris Datenset mittels scikit-learn.\n",
    "\n",
    "\n",
    "\n",
    "# Iris Datenset"
   ]
  },
  {
   "cell_type": "markdown",
   "metadata": {},
   "source": [
    "## Datenset laden\n",
    "\n"
   ]
  },
  {
   "cell_type": "code",
   "execution_count": null,
   "metadata": {},
   "outputs": [],
   "source": [
    "from sklearn import datasets\n",
    "import matplotlib.pyplot as plt\n",
    "iris = datasets.load_iris()"
   ]
  },
  {
   "cell_type": "markdown",
   "metadata": {},
   "source": [
    "## Drei Klassen "
   ]
  },
  {
   "cell_type": "code",
   "execution_count": null,
   "metadata": {},
   "outputs": [],
   "source": [
    "print(iris.target_names)"
   ]
  },
  {
   "cell_type": "markdown",
   "metadata": {},
   "source": [
    "\n",
    "| Iris Setosa      | Iris Versicolor    | Iris virginica    |\n",
    "| :------------- | :----------: | -----------: |\n",
    "|  ![][setosa] | ![][versicolor]   | ![][virginica]  |\n",
    "\n",
    "\n",
    "Details: https://en.wikipedia.org/wiki/Iris_flower_data_set\n",
    "\n",
    "\n",
    "[setosa]: https://upload.wikimedia.org/wikipedia/commons/thumb/5/56/Kosaciec_szczecinkowaty_Iris_setosa.jpg/220px-Kosaciec_szczecinkowaty_Iris_setosa.jpg\n",
    "[versicolor]: https://upload.wikimedia.org/wikipedia/commons/thumb/4/41/Iris_versicolor_3.jpg/220px-Iris_versicolor_3.jpg\n",
    "[virginica]: https://upload.wikimedia.org/wikipedia/commons/thumb/9/9f/Iris_virginica.jpg/220px-Iris_virginica.jpg\n",
    "\n",
    "\n"
   ]
  },
  {
   "cell_type": "markdown",
   "metadata": {},
   "source": [
    "## 150x4 Datenpunkte"
   ]
  },
  {
   "cell_type": "markdown",
   "metadata": {},
   "source": [
    "Merkmale sind die jeweils Länge und Breite von Sepal und Petal\n",
    "\n",
    "![](https://upload.wikimedia.org/wikipedia/commons/thumb/7/78/Petal-sepal.jpg/220px-Petal-sepal.jpg)"
   ]
  },
  {
   "cell_type": "markdown",
   "metadata": {},
   "source": [
    "## Datenpunkte plotten\n",
    "\n",
    "Da das Iris Datenset aus vier Dimensionalen Daten besteht lässt es sich nicht einfach plotten. Eine Möglichkeit ist es, zwei Dimensionen auszuwählen und einen Scatter plot zu machen. Zum Beispiel wenn nur Sepal Länge und Breite berücksichtigt wird.\n",
    "\n",
    "Zum Plotten wird die Library [matplotlib](https://matplotlib.org/) verwendet."
   ]
  },
  {
   "cell_type": "code",
   "execution_count": null,
   "metadata": {},
   "outputs": [],
   "source": [
    "fig, ax = plt.subplots(1,1)\n",
    "\n",
    "ax.set_xlabel(\"Sepal Length\")\n",
    "ax.set_ylabel(\"Sepal Width\")\n",
    "ax.scatter([x[0] for x in iris.data], [x[1] for x in iris.data])\n",
    "\n",
    "plt.show()\n"
   ]
  },
  {
   "cell_type": "markdown",
   "metadata": {},
   "source": [
    "# K-Means Clustering\n",
    "\n",
    "Beim [K-Means Clustering][kmeans] muss die Anzahl Cluster (n_clusters) fix gesetzt werden. Hier wird sie auf drei gesetzt, wodurch der Algorithmus die Daten in drei Cluster aufteilt\n",
    "\n",
    "\n",
    "[kmeans]: https://scikit-learn.org/stable/modules/clustering.html#k-means"
   ]
  },
  {
   "cell_type": "code",
   "execution_count": null,
   "metadata": {},
   "outputs": [],
   "source": [
    "from sklearn.cluster import KMeans\n",
    "\n",
    "y_pred_kmeans = KMeans(n_clusters=3, random_state=0).fit_predict(iris.data)"
   ]
  },
  {
   "cell_type": "markdown",
   "metadata": {},
   "source": [
    "## Plotten der Cluster"
   ]
  },
  {
   "cell_type": "code",
   "execution_count": null,
   "metadata": {},
   "outputs": [],
   "source": [
    "fig, ax = plt.subplots(1,1)\n",
    "ax.set_xlabel(\"Sepal Length\")\n",
    "ax.set_ylabel(\"Sepal Width\")\n",
    "\n",
    "plt.scatter([x[0] for x in iris.data], [x[1] for x in iris.data], c=y_pred_kmeans)\n",
    "plt.show()"
   ]
  },
  {
   "cell_type": "markdown",
   "metadata": {},
   "source": [
    "### Plotten der Klassen\n",
    "\n",
    "Da für das Iris Datenset die Klassen bekannt sind können diese mit dem Clustering verglichen werden"
   ]
  },
  {
   "cell_type": "code",
   "execution_count": null,
   "metadata": {},
   "outputs": [],
   "source": [
    "fig, ax = plt.subplots(1,1)\n",
    "ax.set_xlabel(\"Sepal Length\")\n",
    "ax.set_ylabel(\"Sepal Width\")\n",
    "\n",
    "plt.scatter([x[0] for x in iris.data], [x[1] for x in iris.data], c=iris.target)\n",
    "plt.show()"
   ]
  },
  {
   "cell_type": "markdown",
   "metadata": {},
   "source": [
    "# Evaluation"
   ]
  },
  {
   "cell_type": "code",
   "execution_count": null,
   "metadata": {},
   "outputs": [],
   "source": [
    "from sklearn import metrics"
   ]
  },
  {
   "cell_type": "markdown",
   "metadata": {},
   "source": [
    "## Rand Index\n",
    "\n",
    "Da die Klassen bekannt ist, kann überprüft werden, ob die gefundenen Cluster mit den Klassen überein stimmen. Zum Beispiel mit dem Rand Index"
   ]
  },
  {
   "cell_type": "code",
   "execution_count": null,
   "metadata": {},
   "outputs": [],
   "source": [
    "rand_score = metrics.adjusted_rand_score(iris.target, y_pred_kmeans)\n",
    "print(\"Rand Index für K-Means Clustering: \" + str(rand_score))"
   ]
  },
  {
   "cell_type": "markdown",
   "metadata": {},
   "source": [
    "## Calinski Harabasz \n",
    "\n",
    "Auch wenn die Klassen nicht bekannt ist, gibt es Metriken, die die Qualität des Clusterings messen. Zum Beispiel mit  Calinski-Harabasz Index. Je grösser der Index, desto besser das Clustering."
   ]
  },
  {
   "cell_type": "code",
   "execution_count": null,
   "metadata": {},
   "outputs": [],
   "source": [
    "metrics.calinski_harabasz_score(iris.data, y_pred_kmeans)"
   ]
  },
  {
   "cell_type": "markdown",
   "metadata": {},
   "source": [
    "## Hands-on Aufgabe\n",
    "\n",
    "\n",
    "- Einen anderen [Clustering Algorithmus][clustering] verwenden. Ist die Perfomance besser als K-Means?\n",
    "\n",
    "\n",
    "[clustering]: https://scikit-learn.org/stable/modules/clustering.html\n",
    "\n"
   ]
  }
 ],
 "metadata": {
  "kernelspec": {
   "display_name": "Python 3",
   "language": "python",
   "name": "python3"
  },
  "language_info": {
   "codemirror_mode": {
    "name": "ipython",
    "version": 3
   },
   "file_extension": ".py",
   "mimetype": "text/x-python",
   "name": "python",
   "nbconvert_exporter": "python",
   "pygments_lexer": "ipython3",
   "version": "3.7.3"
  }
 },
 "nbformat": 4,
 "nbformat_minor": 2
}
