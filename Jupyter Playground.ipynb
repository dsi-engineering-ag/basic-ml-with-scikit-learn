{
 "cells": [
  {
   "cell_type": "markdown",
   "metadata": {},
   "source": [
    "<img src=\"https://dsiag.ch/images/dsi_rgb.png\" alt=\"dsi logo\" width=\"100\" style=\"position: absolute; right: 0px;\"/>\n",
    "\n",
    "# Jupyter Playground 14.09.20\n",
    "\n",
    "Mit Jupyter können Code und Dokumentation zusammengeführt und direkt editiert werden"
   ]
  },
  {
   "cell_type": "markdown",
   "metadata": {},
   "source": [
    "## Zwei Arten von Zelllen\n",
    "\n",
    "Es gibt zwei Arten von Zellen: Markdown Zellen und Code Zellen.\n",
    "\n",
    "Neue Zellen sind stets Code Zellen. Über Cell -> Cell Type -> Markdown"
   ]
  },
  {
   "cell_type": "markdown",
   "metadata": {},
   "source": [
    "## Code Zellen\n",
    "\n",
    "\n",
    "\n",
    "Bei Code Zellen wird stets die Ausgabe des letzten Statements unter der Zelle ausgegeben.\n",
    "\n",
    "Die Zelle wird mittels Control-Enter ausgeführt\n"
   ]
  },
  {
   "cell_type": "code",
   "execution_count": 4,
   "metadata": {},
   "outputs": [
    {
     "data": {
      "text/plain": [
       "6"
      ]
     },
     "execution_count": 4,
     "metadata": {},
     "output_type": "execute_result"
    }
   ],
   "source": [
    "1+5"
   ]
  },
  {
   "cell_type": "markdown",
   "metadata": {},
   "source": [
    "Sollen mehrere Statements ausgegeben werden, kann dies über print() gemacht werden"
   ]
  },
  {
   "cell_type": "code",
   "execution_count": 5,
   "metadata": {},
   "outputs": [
    {
     "name": "stdout",
     "output_type": "stream",
     "text": [
      "Das Resultat von 2*3 ist\n",
      "6\n"
     ]
    }
   ],
   "source": [
    "print(\"Das Resultat von 2*3 ist\")\n",
    "\n",
    "print(2*3)"
   ]
  },
  {
   "cell_type": "markdown",
   "metadata": {},
   "source": [
    "## Command Palette\n",
    "\n",
    "\n",
    "Über Control-Shift-P kann die Command Palette aktivierte werden, wo alle Jupyter Commands ausgewählt werden können"
   ]
  },
  {
   "cell_type": "markdown",
   "metadata": {},
   "source": [
    "## Zwei verschiedene Modi\n",
    "\n",
    "### Command Mode \n",
    "\n",
    "Im Command Mode (linker Balken blau) kann zwischen den Zellen hin und her gewechselt werden oder es können z.B. neue Zellen eingefügt werden.\n",
    "\n",
    "Um in den Command Mode zu wechseln wird ESC gedrückt.\n",
    "\n",
    "### Edit Mode\n",
    "\n",
    "Im Edit Mode (linker Balken grün) werden Zellen editiert.\n",
    "\n",
    "Um in den Edit Mode zu wechseln wird ENTER gedrückt.\n",
    "\n"
   ]
  },
  {
   "cell_type": "code",
   "execution_count": null,
   "metadata": {},
   "outputs": [],
   "source": []
  }
 ],
 "metadata": {
  "kernelspec": {
   "display_name": "Python 3",
   "language": "python",
   "name": "python3"
  },
  "language_info": {
   "codemirror_mode": {
    "name": "ipython",
    "version": 3
   },
   "file_extension": ".py",
   "mimetype": "text/x-python",
   "name": "python",
   "nbconvert_exporter": "python",
   "pygments_lexer": "ipython3",
   "version": "3.7.3"
  }
 },
 "nbformat": 4,
 "nbformat_minor": 2
}
